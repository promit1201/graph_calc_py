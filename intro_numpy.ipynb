{
 "cells": [
  {
   "cell_type": "markdown",
   "metadata": {},
   "source": [
    "#Welcome to Numpy"
   ]
  },
  {
   "cell_type": "code",
   "execution_count": 1,
   "metadata": {},
   "outputs": [],
   "source": [
    "import numpy as np\n",
    "import sys"
   ]
  },
  {
   "cell_type": "code",
   "execution_count": 2,
   "metadata": {},
   "outputs": [
    {
     "name": "stdout",
     "output_type": "stream",
     "text": [
      "6\n",
      "(1, 4)\n",
      "int64\n",
      "[[ 3 45 45 67]]\n"
     ]
    }
   ],
   "source": [
    "my_arr = np.array([[3,6,45,67]], np.int64)\n",
    "#my_arr=> prints array([3,6,45,67])\n",
    "print(my_arr[0,1])  #prints (0,1)th index, for 2D list []-1D-list \n",
    "#print(my_arr)=> prints in form of 1 x 4 matrix\n",
    "print(my_arr.shape)\n",
    "print(my_arr.dtype)\n",
    "my_arr.dtype\n",
    "my_arr[0,1]=45  #mutable\n",
    "print(my_arr)"
   ]
  },
  {
   "cell_type": "markdown",
   "metadata": {},
   "source": [
    "#numpy array creation methods"
   ]
  },
  {
   "cell_type": "code",
   "execution_count": 3,
   "metadata": {},
   "outputs": [
    {
     "name": "stdout",
     "output_type": "stream",
     "text": [
      "[[ 1  2  3]\n",
      " [ 4  5  6]\n",
      " [69 70 80]]\n",
      "(3, 3)\n",
      "9\n",
      "int32\n"
     ]
    }
   ],
   "source": [
    "listarr = np.array([[1,2,3],[4,5,6],[69,70,80]])\n",
    "print(listarr)\n",
    "print(listarr.shape)\n",
    "print(listarr.size)\n",
    "print(listarr.dtype)"
   ]
  },
  {
   "cell_type": "code",
   "execution_count": 4,
   "metadata": {},
   "outputs": [
    {
     "data": {
      "text/plain": [
       "array({56, 34, 78}, dtype=object)"
      ]
     },
     "execution_count": 4,
     "metadata": {},
     "output_type": "execute_result"
    }
   ],
   "source": [
    "np.array({34,56,78})\n",
    "#dtype object is not efficient in mathematical operations\n",
    "#hence no lists or tuples are reqd"
   ]
  },
  {
   "cell_type": "code",
   "execution_count": 5,
   "metadata": {},
   "outputs": [
    {
     "name": "stdout",
     "output_type": "stream",
     "text": [
      "(2, 5)\n",
      "[[0. 0. 0. 0. 0.]\n",
      " [0. 0. 0. 0. 0.]]\n",
      "10\n"
     ]
    }
   ],
   "source": [
    "zs= np.zeros((2,5))\n",
    "print(zs.shape)\n",
    "print(zs)\n",
    "print(zs.size)"
   ]
  },
  {
   "cell_type": "code",
   "execution_count": 6,
   "metadata": {},
   "outputs": [
    {
     "name": "stdout",
     "output_type": "stream",
     "text": [
      "[ 0  1  2  3  4  5  6  7  8  9 10 11 12 13 14]\n"
     ]
    }
   ],
   "source": [
    "rng = np.arange(15)\n",
    "print(rng)"
   ]
  },
  {
   "cell_type": "markdown",
   "metadata": {},
   "source": [
    "#Linear spacing ap {start, end, number of terms}"
   ]
  },
  {
   "cell_type": "code",
   "execution_count": 7,
   "metadata": {},
   "outputs": [
    {
     "name": "stdout",
     "output_type": "stream",
     "text": [
      "[ 1.          6.44444444 11.88888889 17.33333333 22.77777778 28.22222222\n",
      " 33.66666667 39.11111111 44.55555556 50.        ]\n"
     ]
    }
   ],
   "source": [
    "lspaced = np.linspace(1,50,10)\n",
    "print(lspaced)"
   ]
  },
  {
   "cell_type": "markdown",
   "metadata": {},
   "source": [
    "#empty method"
   ]
  },
  {
   "cell_type": "code",
   "execution_count": 8,
   "metadata": {},
   "outputs": [
    {
     "name": "stdout",
     "output_type": "stream",
     "text": [
      "[[8.86579630e-312 7.65801751e-322 0.00000000e+000 0.00000000e+000\n",
      "  1.89146896e-307 1.16096346e-028]\n",
      " [9.82205649e+252 1.11789342e+253 3.44371413e-086 6.01347002e-154\n",
      "  3.21867035e-057 3.45688606e-086]\n",
      " [4.66452680e-033 4.66726139e-062 3.65874797e-086 6.82247702e-038\n",
      "  6.74930052e-067 1.99708888e-062]\n",
      " [1.51979061e-047 9.72385253e-072 1.28977971e-057 2.21420214e-052\n",
      "  6.03395543e-154 8.46781366e+136]]\n",
      "[ 1.          6.44444444 11.88888889 17.33333333 22.77777778 28.22222222\n",
      " 33.66666667 39.11111111 44.55555556 50.        ]\n"
     ]
    }
   ],
   "source": [
    "emparr = np.empty((4,6))\n",
    "print(emparr)\n",
    "emp_liked = np.empty_like(lspaced)\n",
    "print(emp_liked)"
   ]
  },
  {
   "cell_type": "code",
   "execution_count": 9,
   "metadata": {},
   "outputs": [
    {
     "name": "stdout",
     "output_type": "stream",
     "text": [
      "[[1. 0. 0. ... 0. 0. 0.]\n",
      " [0. 1. 0. ... 0. 0. 0.]\n",
      " [0. 0. 1. ... 0. 0. 0.]\n",
      " ...\n",
      " [0. 0. 0. ... 1. 0. 0.]\n",
      " [0. 0. 0. ... 0. 1. 0.]\n",
      " [0. 0. 0. ... 0. 0. 1.]]\n",
      "(45, 45)\n"
     ]
    }
   ],
   "source": [
    "ide = np.identity(45)\n",
    "print(ide)\n",
    "print(ide.shape)"
   ]
  },
  {
   "cell_type": "code",
   "execution_count": 10,
   "metadata": {},
   "outputs": [
    {
     "name": "stdout",
     "output_type": "stream",
     "text": [
      "[[ 0  1  2  3  4  5  6  7  8  9 10 11 12 13 14 15 16 17 18 19 20 21 22 23\n",
      "  24 25 26 27 28 29 30 31 32]\n",
      " [33 34 35 36 37 38 39 40 41 42 43 44 45 46 47 48 49 50 51 52 53 54 55 56\n",
      "  57 58 59 60 61 62 63 64 65]\n",
      " [66 67 68 69 70 71 72 73 74 75 76 77 78 79 80 81 82 83 84 85 86 87 88 89\n",
      "  90 91 92 93 94 95 96 97 98]]\n",
      "(99,)\n"
     ]
    }
   ],
   "source": [
    "arr = np.arange(99).reshape(3,33)   #3 rows + 33 cols, same as arr=arr.reshape()\n",
    "print(arr)\n",
    "   #multiply to give arange() value\n",
    "arr = arr.ravel() #method to reshape to 1D matrix\n",
    "print(arr.shape)\n",
    "#print(arr)"
   ]
  },
  {
   "cell_type": "code",
   "execution_count": 11,
   "metadata": {},
   "outputs": [
    {
     "name": "stdout",
     "output_type": "stream",
     "text": [
      "[[1 2 3]\n",
      " [4 5 6]\n",
      " [7 8 9]]\n",
      "[12 15 18] [ 6 15 24]\n",
      "[[1 4 7]\n",
      " [2 5 8]\n",
      " [3 6 9]]\n",
      "2\n",
      "9\n",
      "36\n",
      "2\n",
      "0\n",
      "[0 4 1 3 2]\n",
      "2\n",
      "0\n",
      "[0 4 1 3 2]\n"
     ]
    }
   ],
   "source": [
    "#axis0,axis1=row,cols\n",
    "#sum(axis0)=[12 8 9]; 1D arr= only axis0\n",
    "#sum(axis1)=[]\n",
    "\n",
    "x=[[1,2,3],[4,5,6],[7,8,9]]\n",
    "ar = np.array(x)\n",
    "print(ar)\n",
    "print(ar.sum(axis=0), ar.sum(axis=1))   #colwise sum\n",
    "print(ar.T) #transpose\n",
    "\n",
    "#ar.flat iterator\n",
    "#print(ar.flat)=> returns a flat iterator object\n",
    "'''for item in ar.flat:\n",
    "    print(item)'''#all elements printed\n",
    "print(ar.ndim)  #2 cause 2D array\n",
    "print(ar.size)\n",
    "print(ar.nbytes)\n",
    "\n",
    "#all of these are properties not methods, hence no parentheses are used\n",
    "\n",
    "one = np.array([1,3,64,4,2])\n",
    "print(one.argmax())     #method hence parentheses were passed\n",
    "\n",
    "#argmax gives index where maximum element is present\n",
    "print(one.argmin())\n",
    "\n",
    "#argsort() returns an indexarray in which if elements were present, then the array would've been sorted\n",
    "print(one.argsort())\n",
    "\n",
    "#argmax(axis=) prints the index-axis-wise such that the index printed contains the greatest element in that axis\n",
    "print(one.argmax(axis=0)) \n",
    "\n",
    "#same applies for argsort() and argmin()\n",
    "print(one.argmin(axis=0))\n",
    "print(one.argsort(axis=0))"
   ]
  },
  {
   "cell_type": "code",
   "execution_count": 12,
   "metadata": {},
   "outputs": [
    {
     "data": {
      "text/plain": [
       "array([1, 2, 3, 4, 5, 6, 7, 8, 9])"
      ]
     },
     "execution_count": 12,
     "metadata": {},
     "output_type": "execute_result"
    }
   ],
   "source": [
    "ar.ravel()"
   ]
  },
  {
   "cell_type": "code",
   "execution_count": 13,
   "metadata": {},
   "outputs": [
    {
     "data": {
      "text/plain": [
       "array([1, 2, 3, 4, 5, 6, 7, 8, 9])"
      ]
     },
     "execution_count": 13,
     "metadata": {},
     "output_type": "execute_result"
    }
   ],
   "source": [
    "ar.reshape((9,))"
   ]
  },
  {
   "cell_type": "code",
   "execution_count": 14,
   "metadata": {},
   "outputs": [
    {
     "name": "stdout",
     "output_type": "stream",
     "text": [
      "[[ 2  4  3]\n",
      " [ 7  7 10]\n",
      " [11  9 11]]\n",
      "[[ 1  4  0]\n",
      " [12 10 24]\n",
      " [28  8 18]]\n",
      "[[1.         1.41421356 1.73205081]\n",
      " [2.         2.23606798 2.44948974]\n",
      " [2.64575131 2.82842712 3.        ]]\n",
      "45\n",
      "9\n",
      "1\n"
     ]
    }
   ],
   "source": [
    "ar2 = np.array([[1,2,0],[3,2,4],[4,1,2]])\n",
    "print(ar+ar2)\n",
    "print(ar*ar2)\n",
    "\n",
    "print(np.sqrt(ar))  #element-wise sqrt()\n",
    "\n",
    "print(ar.sum())\n",
    "print(ar.max())\n",
    "print(ar.min()) #all of these functions return numbers in array not indices"
   ]
  },
  {
   "cell_type": "code",
   "execution_count": 15,
   "metadata": {},
   "outputs": [
    {
     "name": "stdout",
     "output_type": "stream",
     "text": [
      "(array([1, 2, 2, 2], dtype=int64), array([2, 0, 1, 2], dtype=int64))\n",
      "9\n",
      "(array([0, 0, 0, 1, 1, 1, 2, 2, 2], dtype=int64), array([0, 1, 2, 0, 1, 2, 0, 1, 2], dtype=int64))\n"
     ]
    }
   ],
   "source": [
    "ar.reshape((3,3))\n",
    "print(np.where(ar>5))\n",
    "print(np.count_nonzero(ar))\n",
    "print(np.nonzero(ar))   #these return indices"
   ]
  },
  {
   "cell_type": "code",
   "execution_count": 16,
   "metadata": {},
   "outputs": [
    {
     "name": "stdout",
     "output_type": "stream",
     "text": [
      "224\n",
      "32\n"
     ]
    }
   ],
   "source": [
    "py_array = [0, 4, 34, 56, 78, 91, 23, 11]\n",
    "np_array = np.array(py_array)\n",
    "print(sys.getsizeof(1)*len(py_array))\n",
    "print(np_array.itemsize*np_array.size)"
   ]
  }
 ],
 "metadata": {
  "kernelspec": {
   "display_name": "Python 3",
   "language": "python",
   "name": "python3"
  },
  "language_info": {
   "codemirror_mode": {
    "name": "ipython",
    "version": 3
   },
   "file_extension": ".py",
   "mimetype": "text/x-python",
   "name": "python",
   "nbconvert_exporter": "python",
   "pygments_lexer": "ipython3",
   "version": "3.12.1"
  }
 },
 "nbformat": 4,
 "nbformat_minor": 2
}
